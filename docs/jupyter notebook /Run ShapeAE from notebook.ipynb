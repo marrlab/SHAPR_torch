{
 "cells": [
  {
   "cell_type": "markdown",
   "metadata": {},
   "source": [
    "This notebook can be used to run ShapeAE locally or in google colab\n",
    "\n",
    "We first install ShapeAE then set the paths and run it"
   ]
  },
  {
   "cell_type": "code",
   "execution_count": 1,
   "metadata": {},
   "outputs": [
    {
     "name": "stdout",
     "output_type": "stream",
     "text": [
      "Collecting shapr\n",
      "  Using cached shapr-0.0.2-py3-none-any.whl (9.3 kB)\n",
      "Requirement already satisfied: keras>=2.2.4 in /home/dominik/anaconda3/lib/python3.7/site-packages (from shapr) (2.3.1)\n",
      "Requirement already satisfied: imageio in /home/dominik/anaconda3/lib/python3.7/site-packages (from shapr) (2.6.1)\n",
      "Requirement already satisfied: scikit-image in /home/dominik/anaconda3/lib/python3.7/site-packages (from shapr) (0.16.2)\n",
      "Requirement already satisfied: scikit-learn in /home/dominik/anaconda3/lib/python3.7/site-packages (from shapr) (0.24.0)\n",
      "Requirement already satisfied: six>=1.9.0 in /home/dominik/anaconda3/lib/python3.7/site-packages (from keras>=2.2.4->shapr) (1.14.0)\n",
      "Requirement already satisfied: numpy>=1.9.1 in /home/dominik/anaconda3/lib/python3.7/site-packages (from keras>=2.2.4->shapr) (1.18.5)\n",
      "Requirement already satisfied: scipy>=0.14 in /home/dominik/anaconda3/lib/python3.7/site-packages (from keras>=2.2.4->shapr) (1.4.1)\n",
      "Requirement already satisfied: keras-applications>=1.0.6 in /home/dominik/anaconda3/lib/python3.7/site-packages (from keras>=2.2.4->shapr) (1.0.8)\n",
      "Requirement already satisfied: h5py in /home/dominik/anaconda3/lib/python3.7/site-packages (from keras>=2.2.4->shapr) (2.10.0)\n",
      "Requirement already satisfied: keras-preprocessing>=1.0.5 in /home/dominik/anaconda3/lib/python3.7/site-packages (from keras>=2.2.4->shapr) (1.1.2)\n",
      "Requirement already satisfied: pyyaml in /home/dominik/anaconda3/lib/python3.7/site-packages (from keras>=2.2.4->shapr) (5.3)\n",
      "Requirement already satisfied: pillow in /home/dominik/anaconda3/lib/python3.7/site-packages (from imageio->shapr) (7.0.0)\n",
      "Requirement already satisfied: PyWavelets>=0.4.0 in /home/dominik/anaconda3/lib/python3.7/site-packages (from scikit-image->shapr) (1.1.1)\n",
      "Requirement already satisfied: networkx>=2.0 in /home/dominik/anaconda3/lib/python3.7/site-packages (from scikit-image->shapr) (2.4)\n",
      "Requirement already satisfied: matplotlib!=3.0.0,>=2.0.0 in /home/dominik/anaconda3/lib/python3.7/site-packages (from scikit-image->shapr) (3.1.3)\n",
      "Requirement already satisfied: threadpoolctl>=2.0.0 in /home/dominik/anaconda3/lib/python3.7/site-packages (from scikit-learn->shapr) (2.1.0)\n",
      "Requirement already satisfied: joblib>=0.11 in /home/dominik/anaconda3/lib/python3.7/site-packages (from scikit-learn->shapr) (0.14.1)\n",
      "Requirement already satisfied: kiwisolver>=1.0.1 in /home/dominik/anaconda3/lib/python3.7/site-packages (from matplotlib!=3.0.0,>=2.0.0->scikit-image->shapr) (1.1.0)\n",
      "Requirement already satisfied: cycler>=0.10 in /home/dominik/anaconda3/lib/python3.7/site-packages (from matplotlib!=3.0.0,>=2.0.0->scikit-image->shapr) (0.10.0)\n",
      "Requirement already satisfied: pyparsing!=2.0.4,!=2.1.2,!=2.1.6,>=2.0.1 in /home/dominik/anaconda3/lib/python3.7/site-packages (from matplotlib!=3.0.0,>=2.0.0->scikit-image->shapr) (2.4.6)\n",
      "Requirement already satisfied: python-dateutil>=2.1 in /home/dominik/anaconda3/lib/python3.7/site-packages (from matplotlib!=3.0.0,>=2.0.0->scikit-image->shapr) (2.8.1)\n",
      "Requirement already satisfied: decorator>=4.3.0 in /home/dominik/anaconda3/lib/python3.7/site-packages (from networkx>=2.0->scikit-image->shapr) (4.4.1)\n",
      "Requirement already satisfied: setuptools in /home/dominik/anaconda3/lib/python3.7/site-packages (from kiwisolver>=1.0.1->matplotlib!=3.0.0,>=2.0.0->scikit-image->shapr) (45.2.0.post20200210)\n",
      "Installing collected packages: shapr\n",
      "Successfully installed shapr-0.0.2\n",
      "\u001b[33mWARNING: You are using pip version 21.3.1; however, version 22.0.2 is available.\n",
      "You should consider upgrading via the '/home/dominik/anaconda3/bin/python3 -m pip install --upgrade pip' command.\u001b[0m\n"
     ]
    }
   ],
   "source": [
    "# first we install ShapeAE using pip install \n",
    "!pip3 install shapr"
   ]
  },
  {
   "cell_type": "markdown",
   "metadata": {},
   "source": [
    "Now we choose the desired settings: \n",
    "settings.path : The path containing the image, mask and obj folder with correspondig files (see sample)\n",
    "settings.result_path : The path where ShapeAEs results should be saved\n",
    "settings.random_seed : The random seed \n",
    "settings.batch_size : The batchsize, we recommend an even number smaller than 10 and larger than 4 \n",
    "settings.epochs_ShapeAE : The number of epochs ShapeAE should be trained in a supervised fashion\n",
    "settings.epochs_cShapeAE : The number of epochs ShapeAE should be trained with the discriminator"
   ]
  },
  {
   "cell_type": "code",
   "execution_count": null,
   "metadata": {
    "scrolled": false
   },
   "outputs": [],
   "source": [
    "from shapr import _settings, run_train, run_evaluation\n",
    "settings.path =  \"./docs/sample/\"\n",
    "settings.result_path =  \"./docs/sample/SHAPR_results/\"\n",
    "#run ShapeAE\n",
    "run_train()"
   ]
  },
  {
   "cell_type": "code",
   "execution_count": null,
   "metadata": {},
   "outputs": [],
   "source": []
  },
  {
   "cell_type": "code",
   "execution_count": null,
   "metadata": {},
   "outputs": [],
   "source": []
  }
 ],
 "metadata": {
  "kernelspec": {
   "display_name": "Python 3",
   "language": "python",
   "name": "python3"
  },
  "language_info": {
   "codemirror_mode": {
    "name": "ipython",
    "version": 3
   },
   "file_extension": ".py",
   "mimetype": "text/x-python",
   "name": "python",
   "nbconvert_exporter": "python",
   "pygments_lexer": "ipython3",
   "version": "3.7.6"
  }
 },
 "nbformat": 4,
 "nbformat_minor": 4
}